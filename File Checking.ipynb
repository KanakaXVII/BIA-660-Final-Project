{
 "cells": [
  {
   "cell_type": "code",
   "execution_count": 55,
   "id": "eb220bfd",
   "metadata": {},
   "outputs": [],
   "source": [
    "import pandas as pd\n",
    "import os\n",
    "import warnings"
   ]
  },
  {
   "cell_type": "code",
   "execution_count": 56,
   "id": "58f78697",
   "metadata": {},
   "outputs": [],
   "source": [
    "# Set a warning filter for the driver deprication warning\n",
    "warnings.filterwarnings('ignore')"
   ]
  },
  {
   "cell_type": "code",
   "execution_count": 57,
   "id": "f2adcf98",
   "metadata": {},
   "outputs": [],
   "source": [
    "current_files = os.listdir('scrapes/')"
   ]
  },
  {
   "cell_type": "code",
   "execution_count": 58,
   "id": "97aa3c01",
   "metadata": {},
   "outputs": [
    {
     "name": "stdout",
     "output_type": "stream",
     "text": [
      "['ds_scrape_1.csv', 'ds_scrape_2.csv', 'ds_scrape_3.csv', 'se_scrape_1.csv', 'se_scrape_2.csv', 'se_scrape_3.csv']\n"
     ]
    }
   ],
   "source": [
    "print(current_files)"
   ]
  },
  {
   "cell_type": "code",
   "execution_count": 59,
   "id": "6df5180b",
   "metadata": {},
   "outputs": [],
   "source": [
    "ds_data = pd.DataFrame()\n",
    "for i in current_files:\n",
    "    if 'ds' in i:\n",
    "        new_df = pd.read_csv(f'scrapes/{i}')\n",
    "        new_df = new_df.iloc[:, 1:]\n",
    "        ds_data = ds_data.append(new_df, ignore_index=True)"
   ]
  },
  {
   "cell_type": "code",
   "execution_count": 60,
   "id": "8bfbf5b4",
   "metadata": {},
   "outputs": [],
   "source": [
    "se_data = pd.DataFrame()\n",
    "for i in current_files:\n",
    "    if 'se' in i:\n",
    "        new_df = pd.read_csv(f'scrapes/{i}')\n",
    "        new_df = new_df.iloc[:, 1:]\n",
    "        se_data = se_data.append(new_df, ignore_index=True)"
   ]
  },
  {
   "cell_type": "code",
   "execution_count": 61,
   "id": "4123adcc",
   "metadata": {},
   "outputs": [
    {
     "name": "stdout",
     "output_type": "stream",
     "text": [
      "Data Scientist: 4216\n",
      "Software Engineer: 7273\n"
     ]
    }
   ],
   "source": [
    "print(f'Data Scientist: {len(ds_data)}')\n",
    "print(f'Software Engineer: {len(se_data)}')"
   ]
  },
  {
   "cell_type": "code",
   "execution_count": 52,
   "id": "da69a653",
   "metadata": {},
   "outputs": [
    {
     "name": "stdout",
     "output_type": "stream",
     "text": [
      "1887\n"
     ]
    }
   ],
   "source": [
    "ds_data = ds_data.drop_duplicates(subset=['Description'], ignore_index=True)\n",
    "print(len(ds_data))"
   ]
  },
  {
   "cell_type": "code",
   "execution_count": 53,
   "id": "48fad821",
   "metadata": {},
   "outputs": [
    {
     "name": "stdout",
     "output_type": "stream",
     "text": [
      "3783\n"
     ]
    }
   ],
   "source": [
    "se_data = se_data.drop_duplicates(subset='Description', ignore_index=True)\n",
    "print(len(se_data))"
   ]
  }
 ],
 "metadata": {
  "kernelspec": {
   "display_name": "Python 3 (ipykernel)",
   "language": "python",
   "name": "python3"
  },
  "language_info": {
   "codemirror_mode": {
    "name": "ipython",
    "version": 3
   },
   "file_extension": ".py",
   "mimetype": "text/x-python",
   "name": "python",
   "nbconvert_exporter": "python",
   "pygments_lexer": "ipython3",
   "version": "3.9.12"
  }
 },
 "nbformat": 4,
 "nbformat_minor": 5
}
